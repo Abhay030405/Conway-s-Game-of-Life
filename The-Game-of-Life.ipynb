{
 "cells": [
  {
   "cell_type": "code",
   "execution_count": 64,
   "id": "6faece17",
   "metadata": {},
   "outputs": [],
   "source": [
    "class GameOfLife(object):  \n",
    "    \n",
    "    def __init__(self, x_dim, y_dim):\n",
    "        # Initialize a 2D list with dimensions x_dim by y_dim filled with zeros.\n",
    "        self.x_dim = x_dim   # Represents the number of rows in the grid\n",
    "        self.y_dim = y_dim   # Represents the number of columns in the grid\n",
    "        # Initialize the grid as an empty list\n",
    "        self.life_grid = []\n",
    "\n",
    "         # Create a 2D grid with all cells initialized to 0 (dead)\n",
    "        for i in range(x_dim):\n",
    "            row = [0] * y_dim\n",
    "            self.life_grid.append(row)\n",
    "\n",
    "    def get_grid(self):\n",
    "        # Implement a getter method for your grid.\n",
    "        return self.life_grid\n",
    "\n",
    "    def print_grid(self):\n",
    "        # Implement a method to print out your grid in a human-readable format.\n",
    "        for i in range(self.x_dim):\n",
    "            for j in range(self.y_dim):\n",
    "                print(self.life_grid[i][j], end=' | ')\n",
    "            print()    \n",
    "            print('- - '*self.y_dim)\n",
    "            \n",
    "    def populate_grid(self, coord):\n",
    "        # Given a list of 2D coordinates (represented as tuples/lists with 2 elements each),\n",
    "        # set the corresponding elements in your grid to 1.\n",
    "        for x, y in coord:\n",
    "            if 0 <= x < self.x_dim and 0 <= y < self.y_dim:\n",
    "                self.life_grid[x][y] = 1\n",
    "            else:\n",
    "                print(f\"Warning: Coordinate ({x}, {y}) is out of bounds for the grid size {self.x_dim}x{self.y_dim}.\")\n",
    "\n",
    "    def make_step(self):\n",
    "        # Implement the logic to update the game state according to the rules of Conway's Game of Life.\n",
    "        self.sum_grid = []       # Initialize a sum grid to keep track of live neighbors\n",
    "        for i in range(self.x_dim):\n",
    "           self.sum_grid.append([0] * self.y_dim)  \n",
    "        live_neighbors = 0\n",
    "\n",
    "        # Loop through each cell in the grid\n",
    "        for i in range(self.x_dim):\n",
    "            for j in range(self.y_dim):\n",
    "                # Count the number of live neighbors\n",
    "                sum = 0\n",
    "                # Check the 8 neighbors around the cell (i, j)\n",
    "                for x in range(max(0, i-1), min(self.x_dim, i+2)):\n",
    "                    for y in range(max(0, j-1), min(self.y_dim, j+2)):\n",
    "                        if (x != i or y != j) :\n",
    "                            sum += self.life_grid[x][y]\n",
    "\n",
    "                # Store the sum of live neighbors in the sum_grid\n",
    "                self.sum_grid[i][j] = sum\n",
    "\n",
    "        # Apply the rules of the Game of Life\n",
    "        for i in range(self.x_dim):\n",
    "            for j in range(self.y_dim):\n",
    "\n",
    "                # If the cell is dead and has exactly 3 live neighbors, it becomes alive\n",
    "                # If the cell is alive and has fewer than 2 or more than 3 live neighbors, it dies\n",
    "                if self.life_grid[i][j] == 1: # If the cell is alive\n",
    "                    if self.sum_grid[i][j] < 2 or self.sum_grid[i][j] > 3:\n",
    "                        self.life_grid[i][j] = 0\n",
    "                else :\n",
    "                    if self.sum_grid[i][j] == 3:\n",
    "                        self.life_grid[i][j] = 1    \n",
    "       \n",
    "        return self.life_grid \n",
    "    \n",
    "    def make_n_steps(self, n):\n",
    "        # Implement a method that applies the make_step method n times.\n",
    "        for i in range(n):\n",
    "            self.make_step()\n",
    "        return self.life_grid\n",
    "\n",
    "    def draw_grid(self):\n",
    "        # Draw the current state of the grid.\n",
    "\n",
    "        import matplotlib.pyplot as plt\n",
    "\n",
    "        x = []\n",
    "        y = []\n",
    "        c = []\n",
    "\n",
    "        for i in range(self.x_dim):\n",
    "            for j in range(self.y_dim):\n",
    "                x.append(j)\n",
    "                y.append(i)\n",
    "                c.append(self.life_grid[i][j])\n",
    "\n",
    "        fig, ax = plt.subplots(figsize=(6, 6))\n",
    "        scatter = ax.scatter(x, y, c=c, cmap='binary', s=200, edgecolors='black', marker='s')\n",
    "\n",
    "        ax.set_xlim(-0.5, self.y_dim - 0.5)\n",
    "        ax.set_ylim(-0.5, self.x_dim - 0.5)\n",
    "        ax.set_aspect('equal')\n",
    "        ax.invert_yaxis()\n",
    "\n",
    "        plt.title(\"Conway's Game of Life\")\n",
    "        plt.show()\n"
   ]
  },
  {
   "cell_type": "code",
   "execution_count": 65,
   "id": "d60a729a",
   "metadata": {},
   "outputs": [
    {
     "name": "stdout",
     "output_type": "stream",
     "text": [
      "0 | 0 | 0 | 0 | 0 | 0 | \n",
      "- - - - - - - - - - - - \n",
      "0 | 0 | 1 | 1 | 1 | 0 | \n",
      "- - - - - - - - - - - - \n",
      "0 | 1 | 1 | 1 | 0 | 0 | \n",
      "- - - - - - - - - - - - \n",
      "0 | 0 | 0 | 0 | 0 | 0 | \n",
      "- - - - - - - - - - - - \n",
      "0 | 0 | 0 | 0 | 0 | 0 | \n",
      "- - - - - - - - - - - - \n",
      "0 | 0 | 0 | 0 | 0 | 0 | \n",
      "- - - - - - - - - - - - \n"
     ]
    }
   ],
   "source": [
    "game = GameOfLife(6, 6)\n",
    "game.populate_grid([\n",
    "    (1, 2), (1, 3), (1, 4),\n",
    "    (2, 1), (2, 2), (2, 3)\n",
    "]) \n",
    "\n",
    "game.print_grid()"
   ]
  },
  {
   "cell_type": "code",
   "execution_count": 66,
   "id": "367ddb6f",
   "metadata": {},
   "outputs": [
    {
     "data": {
      "text/plain": [
       "[[0, 0, 0, 1, 0, 0],\n",
       " [0, 1, 0, 0, 1, 0],\n",
       " [0, 1, 0, 0, 1, 0],\n",
       " [0, 0, 1, 0, 0, 0],\n",
       " [0, 0, 0, 0, 0, 0],\n",
       " [0, 0, 0, 0, 0, 0]]"
      ]
     },
     "execution_count": 66,
     "metadata": {},
     "output_type": "execute_result"
    }
   ],
   "source": [
    "game.make_n_steps(1)"
   ]
  },
  {
   "cell_type": "code",
   "execution_count": 67,
   "id": "f0c547d7",
   "metadata": {},
   "outputs": [
    {
     "data": {
      "image/png": "[encoded data removed]",
      "text/plain": [
       "<Figure size 600x600 with 1 Axes>"
      ]
     },
     "metadata": {},
     "output_type": "display_data"
    }
   ],
   "source": [
    "game.draw_grid()"
   ]
  },
  {
   "cell_type": "code",
   "execution_count": null,
   "id": "00c28e70",
   "metadata": {},
   "outputs": [],
   "source": []
  }
 ],
 "metadata": {
  "kernelspec": {
   "display_name": "Python 3",
   "language": "python",
   "name": "python3"
  },
  "language_info": {
   "codemirror_mode": {
    "name": "ipython",
    "version": 3
   },
   "file_extension": ".py",
   "mimetype": "text/x-python",
   "name": "python",
   "nbconvert_exporter": "python",
   "pygments_lexer": "ipython3",
   "version": "3.13.3"
  }
 },
 "nbformat": 4,
 "nbformat_minor": 5
}
