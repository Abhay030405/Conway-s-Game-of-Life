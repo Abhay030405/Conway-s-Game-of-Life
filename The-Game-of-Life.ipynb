{
 "cells": [
  {
   "cell_type": "code",
   "execution_count": 26,
   "id": "6faece17",
   "metadata": {},
   "outputs": [],
   "source": [
    "class GameOfLife(object):  \n",
    "    \n",
    "    def __init__(self, x_dim, y_dim):\n",
    "        # Initialize a 2D list with dimensions x_dim by y_dim filled with zeros.\n",
    "        self.x_dim = x_dim   # Represents the number of rows in the grid\n",
    "        self.y_dim = y_dim   # Represents the number of columns in the grid\n",
    "        # Initialize the grid as an empty list\n",
    "        self.life_grid = []\n",
    "\n",
    "         # Create a 2D grid with all cells initialized to 0 (dead)\n",
    "        for i in range(x_dim):\n",
    "            row = [0] * y_dim\n",
    "            self.life_grid.append(row)\n",
    "\n",
    "    def get_grid(self):\n",
    "        # Implement a getter method for your grid.\n",
    "        return self.life_grid\n",
    "\n",
    "    def print_grid(self):\n",
    "        # Implement a method to print out your grid in a human-readable format.\n",
    "        for i in range(self.x_dim):\n",
    "            for j in range(self.y_dim):\n",
    "                print(self.life_grid[i][j], end=' | ')\n",
    "            print()    \n",
    "            print('- - '*self.y_dim)\n",
    "            \n",
    "    def populate_grid(self, coord):\n",
    "        # Given a list of 2D coordinates (represented as tuples/lists with 2 elements each),\n",
    "        # set the corresponding elements in your grid to 1.\n",
    "        for x, y in coord:\n",
    "            if 0 <= x < self.x_dim and 0 <= y < self.y_dim:\n",
    "                self.life_grid[x][y] = 1\n",
    "            else:\n",
    "                print(f\"Warning: Coordinate ({x}, {y}) is out of bounds for the grid size {self.x_dim}x{self.y_dim}.\")\n",
    "\n",
    "    def make_step(self):\n",
    "        # Implement the logic to update the game state according to the rules of Conway's Game of Life.\n",
    "        pass\n",
    "\n",
    "    def make_n_steps(self, n):\n",
    "        # Implement a method that applies the make_step method n times.\n",
    "        pass\n",
    "\n",
    "    def draw_grid(self):\n",
    "        # Draw the current state of the grid.\n",
    "        pass"
   ]
  },
  {
   "cell_type": "code",
   "execution_count": 28,
   "id": "d60a729a",
   "metadata": {},
   "outputs": [
    {
     "name": "stdout",
     "output_type": "stream",
     "text": [
      "Warning: Coordinate (9, 9) is out of bounds for the grid size 5x5.\n",
      "1 | 0 | 0 | 0 | 0 | \n",
      "- - - - - - - - - - \n",
      "0 | 1 | 0 | 0 | 0 | \n",
      "- - - - - - - - - - \n",
      "0 | 0 | 1 | 0 | 0 | \n",
      "- - - - - - - - - - \n",
      "0 | 0 | 0 | 0 | 0 | \n",
      "- - - - - - - - - - \n",
      "0 | 0 | 0 | 0 | 0 | \n",
      "- - - - - - - - - - \n"
     ]
    }
   ],
   "source": [
    "game = GameOfLife(5, 5)\n",
    "game.populate_grid([(0, 0), (1, 1), (2, 2),(9,9)])\n",
    "game.print_grid()"
   ]
  },
  {
   "cell_type": "code",
   "execution_count": null,
   "id": "367ddb6f",
   "metadata": {},
   "outputs": [],
   "source": []
  }
 ],
 "metadata": {
  "kernelspec": {
   "display_name": "Python 3",
   "language": "python",
   "name": "python3"
  },
  "language_info": {
   "codemirror_mode": {
    "name": "ipython",
    "version": 3
   },
   "file_extension": ".py",
   "mimetype": "text/x-python",
   "name": "python",
   "nbconvert_exporter": "python",
   "pygments_lexer": "ipython3",
   "version": "3.13.3"
  }
 },
 "nbformat": 4,
 "nbformat_minor": 5
}
