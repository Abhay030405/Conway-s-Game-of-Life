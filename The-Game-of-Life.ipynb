{
 "cells": [
  {
   "cell_type": "code",
   "execution_count": null,
   "id": "6faece17",
   "metadata": {},
   "outputs": [],
   "source": [
    "class GameOfLife(object):  \n",
    "    \n",
    "    def __init__(self, x_dim, y_dim):\n",
    "        # Initialize a 2D list with dimensions x_dim by y_dim filled with zeros.\n",
    "        self.x_dim = x_dim   # Represents the number of rows in the grid\n",
    "        self.y_dim = y_dim   # Represents the number of columns in the grid\n",
    "        # Initialize the grid as an empty list\n",
    "        self.life_grid = []\n",
    "\n",
    "         # Create a 2D grid with all cells initialized to 0 (dead)\n",
    "        for i in range(x_dim):\n",
    "            row = [0] * y_dim\n",
    "            self.life_grid.append(row)\n",
    "\n",
    "    def get_grid(self):\n",
    "        # Implement a getter method for your grid.\n",
    "        return self.life_grid\n",
    "\n",
    "    def print_grid(self):\n",
    "        # Implement a method to print out your grid in a human-readable format.\n",
    "        for i in range(self.x_dim):\n",
    "            for j in range(self.y_dim):\n",
    "                print(self.life_grid[i][j], end=' | ')\n",
    "            print()    \n",
    "            print('- - '*self.y_dim)\n",
    "            \n",
    "    def populate_grid(self, coord):\n",
    "        # Given a list of 2D coordinates (represented as tuples/lists with 2 elements each),\n",
    "        # set the corresponding elements in your grid to 1.\n",
    "        for x, y in coord:\n",
    "            if 0 <= x < self.x_dim and 0 <= y < self.y_dim:\n",
    "                self.life_grid[x][y] = 1\n",
    "            else:\n",
    "                print(f\"Warning: Coordinate ({x}, {y}) is out of bounds for the grid size {self.x_dim}x{self.y_dim}.\")\n",
    "\n",
    "    def make_step(self):\n",
    "        # Implement the logic to update the game state according to the rules of Conway's Game of Life.\n",
    "        self.sum_grid = []       # Initialize a sum grid to keep track of live neighbors\n",
    "        for i in range(self.x_dim):\n",
    "           self.sum_grid.append([0] * self.y_dim)  \n",
    "        live_neighbors = 0\n",
    "\n",
    "        # Loop through each cell in the grid\n",
    "        for i in range(self.x_dim):\n",
    "            for j in range(self.y_dim):\n",
    "                # Count the number of live neighbors\n",
    "                sum = 0\n",
    "                # Check the 8 neighbors around the cell (i, j)\n",
    "                for x in range(max(0, i-1), min(self.x_dim, i+2)):\n",
    "                    for y in range(max(0, j-1), min(self.y_dim, j+2)):\n",
    "                        if (x != i or y != j) :\n",
    "                            sum += self.life_grid[x][y]\n",
    "\n",
    "                # Store the sum of live neighbors in the sum_grid\n",
    "                self.sum_grid = sum + self.life_grid[i][j]\n",
    "\n",
    "    def make_n_steps(self, n):\n",
    "        # Implement a method that applies the make_step method n times.\n",
    "        pass\n",
    "\n",
    "    def draw_grid(self):\n",
    "        # Draw the current state of the grid.\n",
    "        pass"
   ]
  },
  {
   "cell_type": "code",
   "execution_count": 29,
   "id": "d60a729a",
   "metadata": {},
   "outputs": [
    {
     "name": "stdout",
     "output_type": "stream",
     "text": [
      "1 | 0 | 0 | 0 | 0 | 0 | 0 | 0 | \n",
      "- - - - - - - - - - - - - - - - \n",
      "0 | 0 | 0 | 0 | 0 | 0 | 0 | 0 | \n",
      "- - - - - - - - - - - - - - - - \n",
      "0 | 0 | 0 | 0 | 0 | 0 | 0 | 0 | \n",
      "- - - - - - - - - - - - - - - - \n",
      "0 | 0 | 0 | 0 | 1 | 0 | 0 | 0 | \n",
      "- - - - - - - - - - - - - - - - \n",
      "0 | 0 | 0 | 1 | 0 | 0 | 0 | 0 | \n",
      "- - - - - - - - - - - - - - - - \n",
      "0 | 0 | 0 | 0 | 0 | 0 | 0 | 1 | \n",
      "- - - - - - - - - - - - - - - - \n"
     ]
    }
   ],
   "source": [
    "game = GameOfLife(6, 8)\n",
    "game.populate_grid([(0, 0), (3, 4), (4, 3), (5,7)])\n",
    "game.print_grid()"
   ]
  },
  {
   "cell_type": "code",
   "execution_count": null,
   "id": "367ddb6f",
   "metadata": {},
   "outputs": [],
   "source": []
  }
 ],
 "metadata": {
  "kernelspec": {
   "display_name": "Python 3",
   "language": "python",
   "name": "python3"
  },
  "language_info": {
   "codemirror_mode": {
    "name": "ipython",
    "version": 3
   },
   "file_extension": ".py",
   "mimetype": "text/x-python",
   "name": "python",
   "nbconvert_exporter": "python",
   "pygments_lexer": "ipython3",
   "version": "3.13.3"
  }
 },
 "nbformat": 4,
 "nbformat_minor": 5
}
